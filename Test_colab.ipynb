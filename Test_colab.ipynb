{
  "nbformat": 4,
  "nbformat_minor": 0,
  "metadata": {
    "colab": {
      "name": "Test_colab.ipynb",
      "provenance": [],
      "authorship_tag": "ABX9TyPuVZFI63OIFMDx0bP+jeac",
      "include_colab_link": true
    },
    "kernelspec": {
      "name": "python3",
      "display_name": "Python 3"
    },
    "language_info": {
      "name": "python"
    }
  },
  "cells": [
    {
      "cell_type": "markdown",
      "metadata": {
        "id": "view-in-github",
        "colab_type": "text"
      },
      "source": [
        "<a href=\"https://colab.research.google.com/github/PtiGourou26/CV/blob/main/Test_colab.ipynb\" target=\"_parent\"><img src=\"https://colab.research.google.com/assets/colab-badge.svg\" alt=\"Open In Colab\"/></a>"
      ]
    },
    {
      "cell_type": "code",
      "metadata": {
        "id": "0f7KRg7zTdv_"
      },
      "source": [
        "slider_test = 147  #@param {type: \"slider\", min: 100, max: 200}\n",
        "slider_test"
      ],
      "execution_count": null,
      "outputs": []
    },
    {
      "cell_type": "code",
      "metadata": {
        "id": "7xkhDx0Ka0Pt"
      },
      "source": [
        "import pandas as pd"
      ],
      "execution_count": 2,
      "outputs": []
    },
    {
      "cell_type": "code",
      "metadata": {
        "colab": {
          "base_uri": "https://localhost:8080/",
          "height": 163
        },
        "id": "d-ycLveNbLci",
        "outputId": "eca87874-cda0-4598-9c9a-551420500336"
      },
      "source": [
        "data_test = pd.read_csv(\"/Tx_rep_reg_2015_2020.csv\")"
      ],
      "execution_count": 5,
      "outputs": [
        {
          "output_type": "execute_result",
          "data": {
            "text/html": [
              "<div>\n",
              "<style scoped>\n",
              "    .dataframe tbody tr th:only-of-type {\n",
              "        vertical-align: middle;\n",
              "    }\n",
              "\n",
              "    .dataframe tbody tr th {\n",
              "        vertical-align: top;\n",
              "    }\n",
              "\n",
              "    .dataframe thead th {\n",
              "        text-align: right;\n",
              "    }\n",
              "</style>\n",
              "<table border=\"1\" class=\"dataframe\">\n",
              "  <thead>\n",
              "    <tr style=\"text-align: right;\">\n",
              "      <th></th>\n",
              "      <th>RGES</th>\n",
              "      <th>TX_REP_1_2015</th>\n",
              "      <th>TX_REP_1_2016</th>\n",
              "      <th>TX_REP_1_2017</th>\n",
              "      <th>TX_REP_1_2018</th>\n",
              "      <th>TX_REP_1_2019</th>\n",
              "      <th>TX_REP_1_2020</th>\n",
              "      <th>TX_REP_234_2015</th>\n",
              "      <th>TX_REP_234_2016</th>\n",
              "      <th>TX_REP_234_2017</th>\n",
              "      <th>TX_REP_234_2018</th>\n",
              "      <th>TX_REP_234_2019</th>\n",
              "      <th>TX_REP_234_2020</th>\n",
              "    </tr>\n",
              "  </thead>\n",
              "  <tbody>\n",
              "    <tr>\n",
              "      <th>0</th>\n",
              "      <td>11</td>\n",
              "      <td>45,4</td>\n",
              "      <td>45,3</td>\n",
              "      <td>46,9</td>\n",
              "      <td>46,6</td>\n",
              "      <td>38,9</td>\n",
              "      <td>49,4</td>\n",
              "      <td>77,8</td>\n",
              "      <td>74,4</td>\n",
              "      <td>79,8</td>\n",
              "      <td>80,4</td>\n",
              "      <td>72,3</td>\n",
              "      <td>75</td>\n",
              "    </tr>\n",
              "    <tr>\n",
              "      <th>1</th>\n",
              "      <td>21</td>\n",
              "      <td>63</td>\n",
              "      <td>57,9</td>\n",
              "      <td>60,4</td>\n",
              "      <td>53,2</td>\n",
              "      <td>63,8</td>\n",
              "      <td>61,8</td>\n",
              "      <td>86,4</td>\n",
              "      <td>88,2</td>\n",
              "      <td>84,2</td>\n",
              "      <td>77,3</td>\n",
              "      <td>85,4</td>\n",
              "      <td>86,4</td>\n",
              "    </tr>\n",
              "    <tr>\n",
              "      <th>2</th>\n",
              "      <td>22</td>\n",
              "      <td>65,4</td>\n",
              "      <td>70,8</td>\n",
              "      <td>67</td>\n",
              "      <td>55,7</td>\n",
              "      <td>53,9</td>\n",
              "      <td>52,4</td>\n",
              "      <td>91,1</td>\n",
              "      <td>85</td>\n",
              "      <td>84,2</td>\n",
              "      <td>90,2</td>\n",
              "      <td>79,4</td>\n",
              "      <td>86,9</td>\n",
              "    </tr>\n",
              "  </tbody>\n",
              "</table>\n",
              "</div>"
            ],
            "text/plain": [
              "   RGES TX_REP_1_2015  ... TX_REP_234_2019 TX_REP_234_2020\n",
              "0    11          45,4  ...            72,3              75\n",
              "1    21            63  ...            85,4            86,4\n",
              "2    22          65,4  ...            79,4            86,9\n",
              "\n",
              "[3 rows x 13 columns]"
            ]
          },
          "metadata": {
            "tags": []
          },
          "execution_count": 5
        }
      ]
    },
    {
      "cell_type": "markdown",
      "metadata": {
        "id": "WUoQjnhOebrW"
      },
      "source": [
        "verification commit"
      ]
    },
    {
      "cell_type": "markdown",
      "metadata": {
        "id": "A1uYMgzRez6h"
      },
      "source": [
        "Deuxième vérification commit"
      ]
    }
  ]
}